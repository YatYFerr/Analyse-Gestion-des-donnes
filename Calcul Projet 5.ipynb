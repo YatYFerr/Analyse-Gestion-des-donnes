{
 "cells": [
  {
   "cell_type": "markdown",
   "id": "dbf20463",
   "metadata": {},
   "source": [
    "# Projet 5: Optimisez la gestion des données d'une boutique avec R ou Python"
   ]
  },
  {
   "cell_type": "code",
   "execution_count": 137,
   "id": "9a204b13",
   "metadata": {},
   "outputs": [],
   "source": [
    "import pandas as pd\n",
    "import numpy as np\n",
    "import os \n",
    "import matplotlib.pyplot as plt\n",
    "%matplotlib inline \n",
    "import seaborn as sns\n",
    "from scipy import stats\n",
    "\n",
    "folder = \"/Users/yathyarayamauchiferreira/Documents/OpenClassrooms/Projet 5/\"\n",
    "final = folder + \"df_final.xlsx\""
   ]
  },
  {
   "cell_type": "markdown",
   "id": "745129f7",
   "metadata": {},
   "source": [
    "#### Importation du df traité et nettoyé:"
   ]
  },
  {
   "cell_type": "code",
   "execution_count": 7,
   "id": "8b0a5b50",
   "metadata": {},
   "outputs": [
    {
     "data": {
      "text/html": [
       "<div>\n",
       "<style scoped>\n",
       "    .dataframe tbody tr th:only-of-type {\n",
       "        vertical-align: middle;\n",
       "    }\n",
       "\n",
       "    .dataframe tbody tr th {\n",
       "        vertical-align: top;\n",
       "    }\n",
       "\n",
       "    .dataframe thead th {\n",
       "        text-align: right;\n",
       "    }\n",
       "</style>\n",
       "<table border=\"1\" class=\"dataframe\">\n",
       "  <thead>\n",
       "    <tr style=\"text-align: right;\">\n",
       "      <th></th>\n",
       "      <th>product_id</th>\n",
       "      <th>onsale_web</th>\n",
       "      <th>price</th>\n",
       "      <th>stock_quantity</th>\n",
       "      <th>stock_status</th>\n",
       "      <th>id_web</th>\n",
       "      <th>total_sales</th>\n",
       "      <th>post_author</th>\n",
       "      <th>post_date</th>\n",
       "      <th>post_date_gmt</th>\n",
       "      <th>...</th>\n",
       "      <th>post_status</th>\n",
       "      <th>comment_status</th>\n",
       "      <th>ping_status</th>\n",
       "      <th>post_name</th>\n",
       "      <th>post_modified</th>\n",
       "      <th>post_modified_gmt</th>\n",
       "      <th>post_parent</th>\n",
       "      <th>guid</th>\n",
       "      <th>menu_order</th>\n",
       "      <th>post_type</th>\n",
       "    </tr>\n",
       "  </thead>\n",
       "  <tbody>\n",
       "    <tr>\n",
       "      <th>0</th>\n",
       "      <td>3847</td>\n",
       "      <td>1</td>\n",
       "      <td>24.2</td>\n",
       "      <td>0</td>\n",
       "      <td>outofstock</td>\n",
       "      <td>15298</td>\n",
       "      <td>6</td>\n",
       "      <td>2</td>\n",
       "      <td>2018-02-08 12:58:52</td>\n",
       "      <td>2018-02-08 11:58:52</td>\n",
       "      <td>...</td>\n",
       "      <td>publish</td>\n",
       "      <td>closed</td>\n",
       "      <td>closed</td>\n",
       "      <td>pierre-jean-villa-saint-joseph-preface-2018</td>\n",
       "      <td>2019-12-30 09:30:29</td>\n",
       "      <td>2019-12-30 08:30:29</td>\n",
       "      <td>0</td>\n",
       "      <td>https://www.bottle-neck.fr/?post_type=product&amp;...</td>\n",
       "      <td>0</td>\n",
       "      <td>product</td>\n",
       "    </tr>\n",
       "    <tr>\n",
       "      <th>1</th>\n",
       "      <td>3849</td>\n",
       "      <td>1</td>\n",
       "      <td>34.3</td>\n",
       "      <td>0</td>\n",
       "      <td>outofstock</td>\n",
       "      <td>15296</td>\n",
       "      <td>0</td>\n",
       "      <td>2</td>\n",
       "      <td>2018-02-08 13:49:41</td>\n",
       "      <td>2018-02-08 12:49:41</td>\n",
       "      <td>...</td>\n",
       "      <td>publish</td>\n",
       "      <td>closed</td>\n",
       "      <td>closed</td>\n",
       "      <td>pierre-jean-villa-saint-joseph-tilde-2017</td>\n",
       "      <td>2019-12-21 09:00:17</td>\n",
       "      <td>2019-12-21 08:00:17</td>\n",
       "      <td>0</td>\n",
       "      <td>https://www.bottle-neck.fr/?post_type=product&amp;...</td>\n",
       "      <td>0</td>\n",
       "      <td>product</td>\n",
       "    </tr>\n",
       "    <tr>\n",
       "      <th>2</th>\n",
       "      <td>3850</td>\n",
       "      <td>1</td>\n",
       "      <td>20.8</td>\n",
       "      <td>0</td>\n",
       "      <td>outofstock</td>\n",
       "      <td>15300</td>\n",
       "      <td>0</td>\n",
       "      <td>2</td>\n",
       "      <td>2018-02-08 14:08:36</td>\n",
       "      <td>2018-02-08 13:08:36</td>\n",
       "      <td>...</td>\n",
       "      <td>publish</td>\n",
       "      <td>closed</td>\n",
       "      <td>closed</td>\n",
       "      <td>pierre-jean-villa-croze-hermitage-accroche-coe...</td>\n",
       "      <td>2020-06-26 18:15:03</td>\n",
       "      <td>2020-06-26 16:15:03</td>\n",
       "      <td>0</td>\n",
       "      <td>https://www.bottle-neck.fr/?post_type=product&amp;...</td>\n",
       "      <td>0</td>\n",
       "      <td>product</td>\n",
       "    </tr>\n",
       "    <tr>\n",
       "      <th>3</th>\n",
       "      <td>4032</td>\n",
       "      <td>1</td>\n",
       "      <td>14.1</td>\n",
       "      <td>0</td>\n",
       "      <td>outofstock</td>\n",
       "      <td>19814</td>\n",
       "      <td>3</td>\n",
       "      <td>2</td>\n",
       "      <td>2018-02-09 14:01:05</td>\n",
       "      <td>2018-02-09 13:01:05</td>\n",
       "      <td>...</td>\n",
       "      <td>publish</td>\n",
       "      <td>closed</td>\n",
       "      <td>closed</td>\n",
       "      <td>pierre-jean-villa-igp-gamine-2018</td>\n",
       "      <td>2020-01-04 16:36:01</td>\n",
       "      <td>2020-01-04 15:36:01</td>\n",
       "      <td>0</td>\n",
       "      <td>https://www.bottle-neck.fr/?post_type=product&amp;...</td>\n",
       "      <td>0</td>\n",
       "      <td>product</td>\n",
       "    </tr>\n",
       "    <tr>\n",
       "      <th>4</th>\n",
       "      <td>4039</td>\n",
       "      <td>1</td>\n",
       "      <td>46.0</td>\n",
       "      <td>0</td>\n",
       "      <td>outofstock</td>\n",
       "      <td>19815</td>\n",
       "      <td>0</td>\n",
       "      <td>2</td>\n",
       "      <td>2018-02-12 09:04:37</td>\n",
       "      <td>2018-02-12 08:04:37</td>\n",
       "      <td>...</td>\n",
       "      <td>publish</td>\n",
       "      <td>closed</td>\n",
       "      <td>closed</td>\n",
       "      <td>pierre-jean-villa-cote-rotie-carmina-2017</td>\n",
       "      <td>2020-01-04 16:36:10</td>\n",
       "      <td>2020-01-04 15:36:10</td>\n",
       "      <td>0</td>\n",
       "      <td>https://www.bottle-neck.fr/?post_type=product&amp;...</td>\n",
       "      <td>0</td>\n",
       "      <td>product</td>\n",
       "    </tr>\n",
       "  </tbody>\n",
       "</table>\n",
       "<p>5 rows × 22 columns</p>\n",
       "</div>"
      ],
      "text/plain": [
       "   product_id  onsale_web  price  stock_quantity stock_status id_web  \\\n",
       "0        3847           1   24.2               0   outofstock  15298   \n",
       "1        3849           1   34.3               0   outofstock  15296   \n",
       "2        3850           1   20.8               0   outofstock  15300   \n",
       "3        4032           1   14.1               0   outofstock  19814   \n",
       "4        4039           1   46.0               0   outofstock  19815   \n",
       "\n",
       "   total_sales  post_author           post_date       post_date_gmt  ...  \\\n",
       "0            6            2 2018-02-08 12:58:52 2018-02-08 11:58:52  ...   \n",
       "1            0            2 2018-02-08 13:49:41 2018-02-08 12:49:41  ...   \n",
       "2            0            2 2018-02-08 14:08:36 2018-02-08 13:08:36  ...   \n",
       "3            3            2 2018-02-09 14:01:05 2018-02-09 13:01:05  ...   \n",
       "4            0            2 2018-02-12 09:04:37 2018-02-12 08:04:37  ...   \n",
       "\n",
       "  post_status comment_status ping_status  \\\n",
       "0     publish         closed      closed   \n",
       "1     publish         closed      closed   \n",
       "2     publish         closed      closed   \n",
       "3     publish         closed      closed   \n",
       "4     publish         closed      closed   \n",
       "\n",
       "                                           post_name       post_modified  \\\n",
       "0        pierre-jean-villa-saint-joseph-preface-2018 2019-12-30 09:30:29   \n",
       "1          pierre-jean-villa-saint-joseph-tilde-2017 2019-12-21 09:00:17   \n",
       "2  pierre-jean-villa-croze-hermitage-accroche-coe... 2020-06-26 18:15:03   \n",
       "3                  pierre-jean-villa-igp-gamine-2018 2020-01-04 16:36:01   \n",
       "4          pierre-jean-villa-cote-rotie-carmina-2017 2020-01-04 16:36:10   \n",
       "\n",
       "    post_modified_gmt post_parent  \\\n",
       "0 2019-12-30 08:30:29           0   \n",
       "1 2019-12-21 08:00:17           0   \n",
       "2 2020-06-26 16:15:03           0   \n",
       "3 2020-01-04 15:36:01           0   \n",
       "4 2020-01-04 15:36:10           0   \n",
       "\n",
       "                                                guid  menu_order post_type  \n",
       "0  https://www.bottle-neck.fr/?post_type=product&...           0   product  \n",
       "1  https://www.bottle-neck.fr/?post_type=product&...           0   product  \n",
       "2  https://www.bottle-neck.fr/?post_type=product&...           0   product  \n",
       "3  https://www.bottle-neck.fr/?post_type=product&...           0   product  \n",
       "4  https://www.bottle-neck.fr/?post_type=product&...           0   product  \n",
       "\n",
       "[5 rows x 22 columns]"
      ]
     },
     "execution_count": 7,
     "metadata": {},
     "output_type": "execute_result"
    }
   ],
   "source": [
    "df_final = pd.read_excel(final)\n",
    "df_final.head()"
   ]
  },
  {
   "cell_type": "code",
   "execution_count": 9,
   "id": "a89b220f",
   "metadata": {},
   "outputs": [
    {
     "name": "stdout",
     "output_type": "stream",
     "text": [
      "<class 'pandas.core.frame.DataFrame'>\n",
      "RangeIndex: 714 entries, 0 to 713\n",
      "Data columns (total 22 columns):\n",
      " #   Column             Non-Null Count  Dtype         \n",
      "---  ------             --------------  -----         \n",
      " 0   product_id         714 non-null    int64         \n",
      " 1   onsale_web         714 non-null    int64         \n",
      " 2   price              714 non-null    float64       \n",
      " 3   stock_quantity     714 non-null    int64         \n",
      " 4   stock_status       714 non-null    object        \n",
      " 5   id_web             714 non-null    object        \n",
      " 6   total_sales        714 non-null    int64         \n",
      " 7   post_author        714 non-null    int64         \n",
      " 8   post_date          714 non-null    datetime64[ns]\n",
      " 9   post_date_gmt      714 non-null    datetime64[ns]\n",
      " 10  post_title         714 non-null    object        \n",
      " 11  post_excerpt       714 non-null    object        \n",
      " 12  post_status        714 non-null    object        \n",
      " 13  comment_status     714 non-null    object        \n",
      " 14  ping_status        714 non-null    object        \n",
      " 15  post_name          714 non-null    object        \n",
      " 16  post_modified      714 non-null    datetime64[ns]\n",
      " 17  post_modified_gmt  714 non-null    datetime64[ns]\n",
      " 18  post_parent        714 non-null    int64         \n",
      " 19  guid               714 non-null    object        \n",
      " 20  menu_order         714 non-null    int64         \n",
      " 21  post_type          714 non-null    object        \n",
      "dtypes: datetime64[ns](4), float64(1), int64(7), object(10)\n",
      "memory usage: 122.8+ KB\n"
     ]
    }
   ],
   "source": [
    "df_final.info()"
   ]
  },
  {
   "cell_type": "markdown",
   "id": "8efba437",
   "metadata": {},
   "source": [
    "### 1) Chiffre d'affaire par produit:"
   ]
  },
  {
   "cell_type": "markdown",
   "id": "94546e6d",
   "metadata": {},
   "source": [
    "**Création d'une colonne Chiffre d'affaire par produit:**"
   ]
  },
  {
   "cell_type": "code",
   "execution_count": 76,
   "id": "99b3c00e",
   "metadata": {},
   "outputs": [
    {
     "data": {
      "text/html": [
       "<div>\n",
       "<style scoped>\n",
       "    .dataframe tbody tr th:only-of-type {\n",
       "        vertical-align: middle;\n",
       "    }\n",
       "\n",
       "    .dataframe tbody tr th {\n",
       "        vertical-align: top;\n",
       "    }\n",
       "\n",
       "    .dataframe thead th {\n",
       "        text-align: right;\n",
       "    }\n",
       "</style>\n",
       "<table border=\"1\" class=\"dataframe\">\n",
       "  <thead>\n",
       "    <tr style=\"text-align: right;\">\n",
       "      <th></th>\n",
       "      <th>product_id</th>\n",
       "      <th>onsale_web</th>\n",
       "      <th>price</th>\n",
       "      <th>stock_quantity</th>\n",
       "      <th>stock_status</th>\n",
       "      <th>id_web</th>\n",
       "      <th>total_sales</th>\n",
       "      <th>post_author</th>\n",
       "      <th>post_date</th>\n",
       "      <th>post_date_gmt</th>\n",
       "      <th>...</th>\n",
       "      <th>comment_status</th>\n",
       "      <th>ping_status</th>\n",
       "      <th>post_name</th>\n",
       "      <th>post_modified</th>\n",
       "      <th>post_modified_gmt</th>\n",
       "      <th>post_parent</th>\n",
       "      <th>guid</th>\n",
       "      <th>menu_order</th>\n",
       "      <th>post_type</th>\n",
       "      <th>ca_produit</th>\n",
       "    </tr>\n",
       "  </thead>\n",
       "  <tbody>\n",
       "    <tr>\n",
       "      <th>0</th>\n",
       "      <td>3847</td>\n",
       "      <td>1</td>\n",
       "      <td>24.2</td>\n",
       "      <td>0</td>\n",
       "      <td>outofstock</td>\n",
       "      <td>15298</td>\n",
       "      <td>6</td>\n",
       "      <td>2</td>\n",
       "      <td>2018-02-08 12:58:52</td>\n",
       "      <td>2018-02-08 11:58:52</td>\n",
       "      <td>...</td>\n",
       "      <td>closed</td>\n",
       "      <td>closed</td>\n",
       "      <td>pierre-jean-villa-saint-joseph-preface-2018</td>\n",
       "      <td>2019-12-30 09:30:29</td>\n",
       "      <td>2019-12-30 08:30:29</td>\n",
       "      <td>0</td>\n",
       "      <td>https://www.bottle-neck.fr/?post_type=product&amp;...</td>\n",
       "      <td>0</td>\n",
       "      <td>product</td>\n",
       "      <td>145.2</td>\n",
       "    </tr>\n",
       "    <tr>\n",
       "      <th>1</th>\n",
       "      <td>3849</td>\n",
       "      <td>1</td>\n",
       "      <td>34.3</td>\n",
       "      <td>0</td>\n",
       "      <td>outofstock</td>\n",
       "      <td>15296</td>\n",
       "      <td>0</td>\n",
       "      <td>2</td>\n",
       "      <td>2018-02-08 13:49:41</td>\n",
       "      <td>2018-02-08 12:49:41</td>\n",
       "      <td>...</td>\n",
       "      <td>closed</td>\n",
       "      <td>closed</td>\n",
       "      <td>pierre-jean-villa-saint-joseph-tilde-2017</td>\n",
       "      <td>2019-12-21 09:00:17</td>\n",
       "      <td>2019-12-21 08:00:17</td>\n",
       "      <td>0</td>\n",
       "      <td>https://www.bottle-neck.fr/?post_type=product&amp;...</td>\n",
       "      <td>0</td>\n",
       "      <td>product</td>\n",
       "      <td>0.0</td>\n",
       "    </tr>\n",
       "    <tr>\n",
       "      <th>2</th>\n",
       "      <td>3850</td>\n",
       "      <td>1</td>\n",
       "      <td>20.8</td>\n",
       "      <td>0</td>\n",
       "      <td>outofstock</td>\n",
       "      <td>15300</td>\n",
       "      <td>0</td>\n",
       "      <td>2</td>\n",
       "      <td>2018-02-08 14:08:36</td>\n",
       "      <td>2018-02-08 13:08:36</td>\n",
       "      <td>...</td>\n",
       "      <td>closed</td>\n",
       "      <td>closed</td>\n",
       "      <td>pierre-jean-villa-croze-hermitage-accroche-coe...</td>\n",
       "      <td>2020-06-26 18:15:03</td>\n",
       "      <td>2020-06-26 16:15:03</td>\n",
       "      <td>0</td>\n",
       "      <td>https://www.bottle-neck.fr/?post_type=product&amp;...</td>\n",
       "      <td>0</td>\n",
       "      <td>product</td>\n",
       "      <td>0.0</td>\n",
       "    </tr>\n",
       "    <tr>\n",
       "      <th>3</th>\n",
       "      <td>4032</td>\n",
       "      <td>1</td>\n",
       "      <td>14.1</td>\n",
       "      <td>0</td>\n",
       "      <td>outofstock</td>\n",
       "      <td>19814</td>\n",
       "      <td>3</td>\n",
       "      <td>2</td>\n",
       "      <td>2018-02-09 14:01:05</td>\n",
       "      <td>2018-02-09 13:01:05</td>\n",
       "      <td>...</td>\n",
       "      <td>closed</td>\n",
       "      <td>closed</td>\n",
       "      <td>pierre-jean-villa-igp-gamine-2018</td>\n",
       "      <td>2020-01-04 16:36:01</td>\n",
       "      <td>2020-01-04 15:36:01</td>\n",
       "      <td>0</td>\n",
       "      <td>https://www.bottle-neck.fr/?post_type=product&amp;...</td>\n",
       "      <td>0</td>\n",
       "      <td>product</td>\n",
       "      <td>42.3</td>\n",
       "    </tr>\n",
       "    <tr>\n",
       "      <th>4</th>\n",
       "      <td>4039</td>\n",
       "      <td>1</td>\n",
       "      <td>46.0</td>\n",
       "      <td>0</td>\n",
       "      <td>outofstock</td>\n",
       "      <td>19815</td>\n",
       "      <td>0</td>\n",
       "      <td>2</td>\n",
       "      <td>2018-02-12 09:04:37</td>\n",
       "      <td>2018-02-12 08:04:37</td>\n",
       "      <td>...</td>\n",
       "      <td>closed</td>\n",
       "      <td>closed</td>\n",
       "      <td>pierre-jean-villa-cote-rotie-carmina-2017</td>\n",
       "      <td>2020-01-04 16:36:10</td>\n",
       "      <td>2020-01-04 15:36:10</td>\n",
       "      <td>0</td>\n",
       "      <td>https://www.bottle-neck.fr/?post_type=product&amp;...</td>\n",
       "      <td>0</td>\n",
       "      <td>product</td>\n",
       "      <td>0.0</td>\n",
       "    </tr>\n",
       "  </tbody>\n",
       "</table>\n",
       "<p>5 rows × 23 columns</p>\n",
       "</div>"
      ],
      "text/plain": [
       "   product_id  onsale_web  price  stock_quantity stock_status id_web  \\\n",
       "0        3847           1   24.2               0   outofstock  15298   \n",
       "1        3849           1   34.3               0   outofstock  15296   \n",
       "2        3850           1   20.8               0   outofstock  15300   \n",
       "3        4032           1   14.1               0   outofstock  19814   \n",
       "4        4039           1   46.0               0   outofstock  19815   \n",
       "\n",
       "   total_sales  post_author           post_date       post_date_gmt  ...  \\\n",
       "0            6            2 2018-02-08 12:58:52 2018-02-08 11:58:52  ...   \n",
       "1            0            2 2018-02-08 13:49:41 2018-02-08 12:49:41  ...   \n",
       "2            0            2 2018-02-08 14:08:36 2018-02-08 13:08:36  ...   \n",
       "3            3            2 2018-02-09 14:01:05 2018-02-09 13:01:05  ...   \n",
       "4            0            2 2018-02-12 09:04:37 2018-02-12 08:04:37  ...   \n",
       "\n",
       "  comment_status ping_status  \\\n",
       "0         closed      closed   \n",
       "1         closed      closed   \n",
       "2         closed      closed   \n",
       "3         closed      closed   \n",
       "4         closed      closed   \n",
       "\n",
       "                                           post_name       post_modified  \\\n",
       "0        pierre-jean-villa-saint-joseph-preface-2018 2019-12-30 09:30:29   \n",
       "1          pierre-jean-villa-saint-joseph-tilde-2017 2019-12-21 09:00:17   \n",
       "2  pierre-jean-villa-croze-hermitage-accroche-coe... 2020-06-26 18:15:03   \n",
       "3                  pierre-jean-villa-igp-gamine-2018 2020-01-04 16:36:01   \n",
       "4          pierre-jean-villa-cote-rotie-carmina-2017 2020-01-04 16:36:10   \n",
       "\n",
       "    post_modified_gmt post_parent  \\\n",
       "0 2019-12-30 08:30:29           0   \n",
       "1 2019-12-21 08:00:17           0   \n",
       "2 2020-06-26 16:15:03           0   \n",
       "3 2020-01-04 15:36:01           0   \n",
       "4 2020-01-04 15:36:10           0   \n",
       "\n",
       "                                                guid menu_order  post_type  \\\n",
       "0  https://www.bottle-neck.fr/?post_type=product&...          0    product   \n",
       "1  https://www.bottle-neck.fr/?post_type=product&...          0    product   \n",
       "2  https://www.bottle-neck.fr/?post_type=product&...          0    product   \n",
       "3  https://www.bottle-neck.fr/?post_type=product&...          0    product   \n",
       "4  https://www.bottle-neck.fr/?post_type=product&...          0    product   \n",
       "\n",
       "  ca_produit  \n",
       "0      145.2  \n",
       "1        0.0  \n",
       "2        0.0  \n",
       "3       42.3  \n",
       "4        0.0  \n",
       "\n",
       "[5 rows x 23 columns]"
      ]
     },
     "execution_count": 76,
     "metadata": {},
     "output_type": "execute_result"
    }
   ],
   "source": [
    "df_final['ca_produit'] = df_final['price']*df_final['total_sales']\n",
    "df_final.head()"
   ]
  },
  {
   "cell_type": "code",
   "execution_count": 74,
   "id": "40837e48",
   "metadata": {},
   "outputs": [
    {
     "name": "stdout",
     "output_type": "stream",
     "text": [
      "                                                    ca_produit\n",
      "post_title                                                    \n",
      "Agnès Levet Côte Rôtie Améthyste 2017                    164.8\n",
      "Agnès Levet Côte Rôtie Maestria 2017                     165.0\n",
      "Agnès Levet Côte Rôtie Péroline 2017                     171.0\n",
      "Alain Graillot Crozes-Hermitage Blanc 2018               244.0\n",
      "Alain Graillot Crozes-Hermitage Rouge 2017               146.4\n",
      "...                                                        ...\n",
      "Zind-Humbrecht Pinot Gris Roche Calcaire 2017              0.0\n",
      "Zind-Humbrecht Riesling Clos Windsbuhl 2014                0.0\n",
      "Zind-Humbrecht Riesling Grand Cru Rangen De Tha...         0.0\n",
      "Zind-Humbrecht Riesling Herrenweg de Turckheim ...        63.4\n",
      "Zind-Humbrecht Zind 2017                                 154.2\n",
      "\n",
      "[711 rows x 1 columns]\n"
     ]
    }
   ],
   "source": [
    "print(df_final.groupby(\"post_title\")[[\"ca_produit\"]].prod())"
   ]
  },
  {
   "attachments": {},
   "cell_type": "markdown",
   "id": "a040f58c",
   "metadata": {},
   "source": [
    "### 2) Total du chiffre d’affaires réalisé en ligne:"
   ]
  },
  {
   "cell_type": "code",
   "execution_count": 20,
   "id": "8f870141",
   "metadata": {},
   "outputs": [
    {
     "name": "stdout",
     "output_type": "stream",
     "text": [
      "Le CA total réalisé en ligne est de 70,568.6 euros\n"
     ]
    }
   ],
   "source": [
    "print('Le CA total réalisé en ligne est de {:,} euros'.format(df_final.ca_produit.sum()))"
   ]
  },
  {
   "cell_type": "markdown",
   "id": "865f802e",
   "metadata": {},
   "source": [
    "**La base de donnée ne présente pas des chiffres des ventes en boutique. Pour l'instant, seulement les ventes en lignes réprésentent le chiffre d'affaire total.**"
   ]
  },
  {
   "attachments": {},
   "cell_type": "markdown",
   "id": "a0a49a39",
   "metadata": {},
   "source": [
    "### 3) J'aimerais que tu effectues une analyse sur cette variable afin de détecter d’éventuelles valeurs aberrantes, de les lister et d’en faire une représentation graphique pour plus de lisibilité:"
   ]
  },
  {
   "cell_type": "markdown",
   "id": "20aa8b3b",
   "metadata": {},
   "source": [
    "**Analyse des prix:**"
   ]
  },
  {
   "cell_type": "code",
   "execution_count": 37,
   "id": "8dfe47a0",
   "metadata": {},
   "outputs": [
    {
     "data": {
      "text/html": [
       "<div>\n",
       "<style scoped>\n",
       "    .dataframe tbody tr th:only-of-type {\n",
       "        vertical-align: middle;\n",
       "    }\n",
       "\n",
       "    .dataframe tbody tr th {\n",
       "        vertical-align: top;\n",
       "    }\n",
       "\n",
       "    .dataframe thead th {\n",
       "        text-align: right;\n",
       "    }\n",
       "</style>\n",
       "<table border=\"1\" class=\"dataframe\">\n",
       "  <thead>\n",
       "    <tr style=\"text-align: right;\">\n",
       "      <th></th>\n",
       "      <th>price</th>\n",
       "    </tr>\n",
       "  </thead>\n",
       "  <tbody>\n",
       "    <tr>\n",
       "      <th>count</th>\n",
       "      <td>714.000000</td>\n",
       "    </tr>\n",
       "    <tr>\n",
       "      <th>mean</th>\n",
       "      <td>32.493137</td>\n",
       "    </tr>\n",
       "    <tr>\n",
       "      <th>std</th>\n",
       "      <td>27.810525</td>\n",
       "    </tr>\n",
       "    <tr>\n",
       "      <th>min</th>\n",
       "      <td>5.200000</td>\n",
       "    </tr>\n",
       "    <tr>\n",
       "      <th>25%</th>\n",
       "      <td>14.100000</td>\n",
       "    </tr>\n",
       "    <tr>\n",
       "      <th>50%</th>\n",
       "      <td>23.550000</td>\n",
       "    </tr>\n",
       "    <tr>\n",
       "      <th>75%</th>\n",
       "      <td>42.175000</td>\n",
       "    </tr>\n",
       "    <tr>\n",
       "      <th>max</th>\n",
       "      <td>225.000000</td>\n",
       "    </tr>\n",
       "  </tbody>\n",
       "</table>\n",
       "</div>"
      ],
      "text/plain": [
       "            price\n",
       "count  714.000000\n",
       "mean    32.493137\n",
       "std     27.810525\n",
       "min      5.200000\n",
       "25%     14.100000\n",
       "50%     23.550000\n",
       "75%     42.175000\n",
       "max    225.000000"
      ]
     },
     "execution_count": 37,
     "metadata": {},
     "output_type": "execute_result"
    }
   ],
   "source": [
    "df_final[['price']].describe()"
   ]
  },
  {
   "cell_type": "markdown",
   "id": "10f41133",
   "metadata": {},
   "source": [
    "Il y a 714 valeurs avec 5,20€ pour le prix minimum et 225€ pour le prix maximum.\n",
    "La moyenne de 32,49€\n",
    "L'écart type est de  27,81€"
   ]
  },
  {
   "attachments": {},
   "cell_type": "markdown",
   "id": "939eb73d",
   "metadata": {},
   "source": [
    "mode = valeur la plus fréquente\n",
    "moyenne= somme des valeurs divisée par leur nombre, robuste aux outliers\n",
    "médiane= autant de valeur au-dessus qu'en-dessous"
   ]
  },
  {
   "cell_type": "markdown",
   "id": "3a464266",
   "metadata": {},
   "source": [
    "#### Representation de la repartition des prix en histogramme:\n"
   ]
  },
  {
   "cell_type": "code",
   "execution_count": 34,
   "id": "569bfd5a",
   "metadata": {},
   "outputs": [
    {
     "data": {
      "image/png": "[encoded data removed]",
      "text/plain": [
       "<Figure size 640x480 with 1 Axes>"
      ]
     },
     "metadata": {},
     "output_type": "display_data"
    }
   ],
   "source": [
    "mean = df_final['price'].mean()\n",
    "median = df_final['price'].median()\n",
    "\n",
    "sns.histplot(data = df_final['price'])\n",
    "plt.axvline(mean, color='b', linestyle = \"--\")\n",
    "plt.axvline(median, color='g', linestyle = \"-\")\n",
    "plt.legend({'Moyenne':mean,'Mediane':median})\n",
    "plt.title('Répartition des prix des produits')\n",
    "plt.show()"
   ]
  },
  {
   "cell_type": "markdown",
   "id": "55dd229a",
   "metadata": {},
   "source": [
    "**Les prix moins chers sont plus fréquént que les prix les plus elevés**"
   ]
  },
  {
   "cell_type": "markdown",
   "id": "5cc22f44",
   "metadata": {},
   "source": [
    "### Identification des valeurs aberrantes (outliers) utilisant la méthode IQR:"
   ]
  },
  {
   "cell_type": "markdown",
   "id": "cc5aeba4",
   "metadata": {},
   "source": [
    "Q1 = premier quantile\n",
    "Q3 = troisième quantile)\n",
    "IQR = Q3-Q1 (écart interquantile) \n",
    "Où Q3 est le 75e centile et Q1 est le 25e centile. \n",
    "Une fois le IQR calculé, on peut trouver la limite supérieure et inférieure en supprimant les valeurs aberrants"
   ]
  },
  {
   "cell_type": "code",
   "execution_count": 84,
   "id": "a27287f5",
   "metadata": {},
   "outputs": [
    {
     "name": "stdout",
     "output_type": "stream",
     "text": [
      "L'intervalle inférieur est de -28.012500000000003\n",
      "L'intervalle supérieur est de 84.28750000000001\n"
     ]
    }
   ],
   "source": [
    "Q1 = df_final ['price'].quantile(0.25)\n",
    "Q3 = df_final ['price'].quantile(0.75)\n",
    "IQR = Q3 - Q1\n",
    "intervalle_inf = Q1 - 1.5*IQR\n",
    "intervalle_sup = Q3+1.5*IQR\n",
    "\n",
    "print (\"L'intervalle inférieur est de\",intervalle_inf) \n",
    "print (\"L'intervalle supérieur est de\",intervalle_sup) "
   ]
  },
  {
   "cell_type": "markdown",
   "id": "17ae55db",
   "metadata": {},
   "source": [
    "**Il n'y a pas des valeurs abérrants sur les prix inférieurs car il ne peut pas avoir des valeurs négatifs. Il semblerait que les valeurs abérrants se retrouvent plutôt parmi les prix élevés.**"
   ]
  },
  {
   "cell_type": "markdown",
   "id": "cb1185f9",
   "metadata": {},
   "source": [
    "**Utiliser des filtres sur la colonne 'price' pour connaître les points qu'on veut retirer:**"
   ]
  },
  {
   "cell_type": "code",
   "execution_count": 79,
   "id": "1525bf92",
   "metadata": {},
   "outputs": [
    {
     "data": {
      "text/plain": [
       "(32, 23)"
      ]
     },
     "execution_count": 79,
     "metadata": {},
     "output_type": "execute_result"
    }
   ],
   "source": [
    "outlier_IQR = df_final[(df_final['price']>intervalle_sup) | (df_final['price']<intervalle_inf)]\n",
    "outlier_IQR.shape"
   ]
  },
  {
   "cell_type": "markdown",
   "id": "25ebb47d",
   "metadata": {},
   "source": [
    "**On trouve 32 valeurs supérieures concernées**"
   ]
  },
  {
   "cell_type": "markdown",
   "id": "5570463c",
   "metadata": {},
   "source": [
    "**Suppression des valeurs aberrants par la jointure des deux tables:**"
   ]
  },
  {
   "cell_type": "code",
   "execution_count": 86,
   "id": "abd27d14",
   "metadata": {},
   "outputs": [
    {
     "data": {
      "text/plain": [
       "(682, 46)"
      ]
     },
     "execution_count": 86,
     "metadata": {},
     "output_type": "execute_result"
    }
   ],
   "source": [
    "df_final_sansIQR = pd.merge(df_final,outlier_IQR, on ='price',how='outer',indicator=True).query('_merge==\"left_only\"')\n",
    "df_final_sansIQR.shape\n"
   ]
  },
  {
   "cell_type": "markdown",
   "id": "7ab0f9ce",
   "metadata": {},
   "source": [
    "**Répresentation des valeurs nettoyés en graphique boîte à moustaches:**"
   ]
  },
  {
   "cell_type": "code",
   "execution_count": 96,
   "id": "32d1b71f",
   "metadata": {},
   "outputs": [
    {
     "data": {
      "image/png": "[encoded data removed]",
      "text/plain": [
       "<Figure size 640x480 with 1 Axes>"
      ]
     },
     "metadata": {},
     "output_type": "display_data"
    }
   ],
   "source": [
    "Boxplot = sns.boxplot(x=df_final_sansIQR[\"price\"])"
   ]
  },
  {
   "cell_type": "markdown",
   "id": "1541a0a0",
   "metadata": {},
   "source": [
    "### Détecter et supprimer les valeurs aberrantes (outliers) utilisant la méthode Z-Score:"
   ]
  },
  {
   "cell_type": "markdown",
   "id": "5ed62f75",
   "metadata": {},
   "source": [
    "**Création d'un filtre pour identifier les valeurs absoluts:**"
   ]
  },
  {
   "cell_type": "code",
   "execution_count": 59,
   "id": "dd797eb7",
   "metadata": {},
   "outputs": [],
   "source": [
    "filtre_outlier_Zscore = abs(stats.zscore(df_final['price']))>3"
   ]
  },
  {
   "cell_type": "code",
   "execution_count": 60,
   "id": "8314b8d1",
   "metadata": {},
   "outputs": [
    {
     "data": {
      "text/plain": [
       "(14, 23)"
      ]
     },
     "execution_count": 60,
     "metadata": {},
     "output_type": "execute_result"
    }
   ],
   "source": [
    "outlier_Zscore = df_final[filtre_outlier_Zscore]\n",
    "outlier_Zscore.shape"
   ]
  },
  {
   "cell_type": "code",
   "execution_count": 63,
   "id": "40730470",
   "metadata": {},
   "outputs": [
    {
     "data": {
      "text/plain": [
       "(700, 23)"
      ]
     },
     "execution_count": 63,
     "metadata": {},
     "output_type": "execute_result"
    }
   ],
   "source": [
    "df_final_sansZscore = df_final[~ filtre_outlier_Zscore]\n",
    "df_final_sansZscore.shape"
   ]
  },
  {
   "cell_type": "code",
   "execution_count": 65,
   "id": "c67e84bd",
   "metadata": {},
   "outputs": [
    {
     "data": {
      "text/html": [
       "<div>\n",
       "<style scoped>\n",
       "    .dataframe tbody tr th:only-of-type {\n",
       "        vertical-align: middle;\n",
       "    }\n",
       "\n",
       "    .dataframe tbody tr th {\n",
       "        vertical-align: top;\n",
       "    }\n",
       "\n",
       "    .dataframe thead th {\n",
       "        text-align: right;\n",
       "    }\n",
       "</style>\n",
       "<table border=\"1\" class=\"dataframe\">\n",
       "  <thead>\n",
       "    <tr style=\"text-align: right;\">\n",
       "      <th></th>\n",
       "      <th>price</th>\n",
       "    </tr>\n",
       "  </thead>\n",
       "  <tbody>\n",
       "    <tr>\n",
       "      <th>count</th>\n",
       "      <td>700.000000</td>\n",
       "    </tr>\n",
       "    <tr>\n",
       "      <th>mean</th>\n",
       "      <td>30.078000</td>\n",
       "    </tr>\n",
       "    <tr>\n",
       "      <th>std</th>\n",
       "      <td>21.561132</td>\n",
       "    </tr>\n",
       "    <tr>\n",
       "      <th>min</th>\n",
       "      <td>5.200000</td>\n",
       "    </tr>\n",
       "    <tr>\n",
       "      <th>25%</th>\n",
       "      <td>13.875000</td>\n",
       "    </tr>\n",
       "    <tr>\n",
       "      <th>50%</th>\n",
       "      <td>23.100000</td>\n",
       "    </tr>\n",
       "    <tr>\n",
       "      <th>75%</th>\n",
       "      <td>41.000000</td>\n",
       "    </tr>\n",
       "    <tr>\n",
       "      <th>max</th>\n",
       "      <td>115.000000</td>\n",
       "    </tr>\n",
       "  </tbody>\n",
       "</table>\n",
       "</div>"
      ],
      "text/plain": [
       "            price\n",
       "count  700.000000\n",
       "mean    30.078000\n",
       "std     21.561132\n",
       "min      5.200000\n",
       "25%     13.875000\n",
       "50%     23.100000\n",
       "75%     41.000000\n",
       "max    115.000000"
      ]
     },
     "execution_count": 65,
     "metadata": {},
     "output_type": "execute_result"
    }
   ],
   "source": [
    "df_final_sansZscore[['price']].describe()"
   ]
  },
  {
   "cell_type": "markdown",
   "id": "23b44be5",
   "metadata": {},
   "source": [
    "**Avec la méthode Z-score, on identifie moins de points abérrants.**"
   ]
  },
  {
   "cell_type": "markdown",
   "id": "ec9d191f",
   "metadata": {},
   "source": [
    "### Comparaison des deux méthodes (IQR et Z-score) en graphique:"
   ]
  },
  {
   "cell_type": "code",
   "execution_count": 71,
   "id": "d1ca39e6",
   "metadata": {},
   "outputs": [
    {
     "data": {
      "image/png": "[encoded data removed]",
      "text/plain": [
       "<Figure size 640x480 with 1 Axes>"
      ]
     },
     "metadata": {},
     "output_type": "display_data"
    }
   ],
   "source": [
    "mean = df_final_sansZscore['price'].mean()\n",
    "median = df_final_sansZscore['price'].median()\n",
    "\n",
    "sns.histplot(data = df_final_sansZscore['price'])\n",
    "plt.axvline(mean, color='b', linestyle = \"--\")\n",
    "plt.axvline(median, color='g', linestyle = \"-\")\n",
    "plt.legend({'Moyenne':mean,'Mediane':median})\n",
    "plt.title('Répartition des prix des produits')\n",
    "plt.show()"
   ]
  },
  {
   "cell_type": "code",
   "execution_count": 68,
   "id": "98e18933",
   "metadata": {},
   "outputs": [
    {
     "data": {
      "text/html": [
       "<div>\n",
       "<style scoped>\n",
       "    .dataframe tbody tr th:only-of-type {\n",
       "        vertical-align: middle;\n",
       "    }\n",
       "\n",
       "    .dataframe tbody tr th {\n",
       "        vertical-align: top;\n",
       "    }\n",
       "\n",
       "    .dataframe thead th {\n",
       "        text-align: right;\n",
       "    }\n",
       "</style>\n",
       "<table border=\"1\" class=\"dataframe\">\n",
       "  <thead>\n",
       "    <tr style=\"text-align: right;\">\n",
       "      <th></th>\n",
       "      <th>price</th>\n",
       "    </tr>\n",
       "  </thead>\n",
       "  <tbody>\n",
       "    <tr>\n",
       "      <th>count</th>\n",
       "      <td>682.000000</td>\n",
       "    </tr>\n",
       "    <tr>\n",
       "      <th>mean</th>\n",
       "      <td>28.172727</td>\n",
       "    </tr>\n",
       "    <tr>\n",
       "      <th>std</th>\n",
       "      <td>18.260664</td>\n",
       "    </tr>\n",
       "    <tr>\n",
       "      <th>min</th>\n",
       "      <td>5.200000</td>\n",
       "    </tr>\n",
       "    <tr>\n",
       "      <th>25%</th>\n",
       "      <td>13.700000</td>\n",
       "    </tr>\n",
       "    <tr>\n",
       "      <th>50%</th>\n",
       "      <td>22.800000</td>\n",
       "    </tr>\n",
       "    <tr>\n",
       "      <th>75%</th>\n",
       "      <td>39.000000</td>\n",
       "    </tr>\n",
       "    <tr>\n",
       "      <th>max</th>\n",
       "      <td>83.700000</td>\n",
       "    </tr>\n",
       "  </tbody>\n",
       "</table>\n",
       "</div>"
      ],
      "text/plain": [
       "            price\n",
       "count  682.000000\n",
       "mean    28.172727\n",
       "std     18.260664\n",
       "min      5.200000\n",
       "25%     13.700000\n",
       "50%     22.800000\n",
       "75%     39.000000\n",
       "max     83.700000"
      ]
     },
     "execution_count": 68,
     "metadata": {},
     "output_type": "execute_result"
    }
   ],
   "source": [
    "df_final_sansIQR[['price']].describe()"
   ]
  },
  {
   "cell_type": "code",
   "execution_count": 69,
   "id": "4557058a",
   "metadata": {},
   "outputs": [
    {
     "data": {
      "image/png": "[encoded data removed]",
      "text/plain": [
       "<Figure size 640x480 with 1 Axes>"
      ]
     },
     "metadata": {},
     "output_type": "display_data"
    }
   ],
   "source": [
    "mean = df_final_sansIQR['price'].mean()\n",
    "median = df_final_sansIQR['price'].median()\n",
    "\n",
    "sns.histplot(data = df_final_sansIQR['price'])\n",
    "plt.axvline(mean, color='b', linestyle = \"--\")\n",
    "plt.axvline(median, color='g', linestyle = \"-\")\n",
    "plt.legend({'Moyenne':mean,'Mediane':median})\n",
    "plt.title('Répartition des prix des produits')\n",
    "plt.show()"
   ]
  },
  {
   "cell_type": "markdown",
   "id": "d7f0f13e",
   "metadata": {},
   "source": [
    "### Analyse Univariée des 3 échatillons:"
   ]
  },
  {
   "cell_type": "markdown",
   "id": "3c84ca0c",
   "metadata": {},
   "source": [
    "**Comparaison des deux échantillons pour tester la normalité**"
   ]
  },
  {
   "cell_type": "code",
   "execution_count": 101,
   "id": "7638f6e7",
   "metadata": {},
   "outputs": [
    {
     "data": {
      "text/plain": [
       "ShapiroResult(statistic=0.7597628235816956, pvalue=5.7821899436157055e-31)"
      ]
     },
     "execution_count": 101,
     "metadata": {},
     "output_type": "execute_result"
    }
   ],
   "source": [
    "shapiro_test = stats.shapiro(df_final[['price']])\n",
    "shapiro_test"
   ]
  },
  {
   "cell_type": "code",
   "execution_count": 98,
   "id": "f8d068c6",
   "metadata": {},
   "outputs": [
    {
     "data": {
      "text/plain": [
       "ShapiroResult(statistic=0.8582130670547485, pvalue=1.3317294408223056e-24)"
      ]
     },
     "execution_count": 98,
     "metadata": {},
     "output_type": "execute_result"
    }
   ],
   "source": [
    "shapiro_test = stats.shapiro(df_final_sansZscore[['price']])\n",
    "shapiro_test"
   ]
  },
  {
   "cell_type": "code",
   "execution_count": 99,
   "id": "004db527",
   "metadata": {},
   "outputs": [
    {
     "data": {
      "text/plain": [
       "0.0013317294408223058"
      ]
     },
     "execution_count": 99,
     "metadata": {},
     "output_type": "execute_result"
    }
   ],
   "source": [
    "1.3317294408223056*10**-3"
   ]
  },
  {
   "cell_type": "markdown",
   "id": "05a4b276",
   "metadata": {},
   "source": [
    "**Le nouvel échantillon traité avec la méthode Z-score ne suit pas une loi normale**"
   ]
  },
  {
   "cell_type": "code",
   "execution_count": 100,
   "id": "3a3d9b58",
   "metadata": {},
   "outputs": [
    {
     "data": {
      "text/plain": [
       "ShapiroResult(statistic=0.8913288116455078, pvalue=1.6292172366961091e-21)"
      ]
     },
     "execution_count": 100,
     "metadata": {},
     "output_type": "execute_result"
    }
   ],
   "source": [
    "shapiro_test = stats.shapiro(df_final_sansIQR[['price']])\n",
    "shapiro_test"
   ]
  },
  {
   "cell_type": "markdown",
   "id": "64ade7e5",
   "metadata": {},
   "source": [
    "**En comparant les deux Pvalue, on se rapproche plus de la loi normale avec la méthode IQR, même si est inférieure à 0,05 (qui est le risque qu'on s'est fixé.**"
   ]
  },
  {
   "cell_type": "markdown",
   "id": "326ef98c",
   "metadata": {},
   "source": [
    "### Répresentativité de la moyenne:"
   ]
  },
  {
   "cell_type": "code",
   "execution_count": 136,
   "id": "dade16a7",
   "metadata": {},
   "outputs": [
    {
     "data": {
      "text/html": [
       "<div>\n",
       "<style scoped>\n",
       "    .dataframe tbody tr th:only-of-type {\n",
       "        vertical-align: middle;\n",
       "    }\n",
       "\n",
       "    .dataframe tbody tr th {\n",
       "        vertical-align: top;\n",
       "    }\n",
       "\n",
       "    .dataframe thead th {\n",
       "        text-align: right;\n",
       "    }\n",
       "</style>\n",
       "<table border=\"1\" class=\"dataframe\">\n",
       "  <thead>\n",
       "    <tr style=\"text-align: right;\">\n",
       "      <th></th>\n",
       "      <th>moyenne</th>\n",
       "      <th>medianne</th>\n",
       "      <th>moyenne trunquée</th>\n",
       "      <th>moyenne +- 10%</th>\n",
       "      <th>écart type</th>\n",
       "      <th>coefficient de variation</th>\n",
       "    </tr>\n",
       "    <tr>\n",
       "      <th>échantillon</th>\n",
       "      <th></th>\n",
       "      <th></th>\n",
       "      <th></th>\n",
       "      <th></th>\n",
       "      <th></th>\n",
       "      <th></th>\n",
       "    </tr>\n",
       "  </thead>\n",
       "  <tbody>\n",
       "    <tr>\n",
       "      <th>df_final</th>\n",
       "      <td>32.493137</td>\n",
       "      <td>23.55</td>\n",
       "      <td>27.628671</td>\n",
       "      <td>[29.2:35.7]</td>\n",
       "      <td>27.791043</td>\n",
       "      <td>0.855290</td>\n",
       "    </tr>\n",
       "    <tr>\n",
       "      <th>df_final_sansZscore</th>\n",
       "      <td>30.078000</td>\n",
       "      <td>23.10</td>\n",
       "      <td>26.814821</td>\n",
       "      <td>[27.1:33.1]</td>\n",
       "      <td>21.545726</td>\n",
       "      <td>0.716328</td>\n",
       "    </tr>\n",
       "    <tr>\n",
       "      <th>df_final_sansIQR</th>\n",
       "      <td>28.172727</td>\n",
       "      <td>22.80</td>\n",
       "      <td>25.811172</td>\n",
       "      <td>[25.4:31.0]</td>\n",
       "      <td>18.247272</td>\n",
       "      <td>0.647693</td>\n",
       "    </tr>\n",
       "  </tbody>\n",
       "</table>\n",
       "</div>"
      ],
      "text/plain": [
       "                       moyenne  medianne  moyenne trunquée moyenne +- 10%  \\\n",
       "échantillon                                                                 \n",
       "df_final             32.493137     23.55         27.628671    [29.2:35.7]   \n",
       "df_final_sansZscore  30.078000     23.10         26.814821    [27.1:33.1]   \n",
       "df_final_sansIQR     28.172727     22.80         25.811172    [25.4:31.0]   \n",
       "\n",
       "                     écart type  coefficient de variation  \n",
       "échantillon                                                \n",
       "df_final              27.791043                  0.855290  \n",
       "df_final_sansZscore   21.545726                  0.716328  \n",
       "df_final_sansIQR      18.247272                  0.647693  "
      ]
     },
     "execution_count": 136,
     "metadata": {},
     "output_type": "execute_result"
    }
   ],
   "source": [
    "d = {'échantillon' : ['df_final','df_final_sansZscore','df_final_sansIQR'],\n",
    "     'moyenne': [np.mean(df_final['price']), \n",
    "                 np.mean(df_final_sansZscore['price']), \n",
    "                 np.mean(df_final_sansIQR['price'])], \n",
    "                 'medianne': [np.median(df_final['price']), \n",
    "                              np.median(df_final_sansZscore['price']), \n",
    "                              np.median(df_final_sansIQR['price'])]}\n",
    "df_statistique = pd.DataFrame(data=d)\n",
    "df_statistique['moyenne trunquée']= [stats.trim_mean(df_final['price'],0.1), \n",
    "                              stats.trim_mean(df_final_sansZscore['price'],0.1), \n",
    "                              stats.trim_mean(df_final_sansIQR['price'],0.1)]\n",
    "df_statistique['moyenne +- 10%']= df_statistique['moyenne'].apply(lambda x:'[{:.1f}:{:.1f}]'.format(x*0.9,x*1.1))\n",
    "df_statistique['écart type']= [np.std(df_final['price']), \n",
    "                              np.std(df_final_sansZscore['price']), \n",
    "                              np.std(df_final_sansIQR['price'])]\n",
    "df_statistique['coefficient de variation']=df_statistique['écart type']/df_statistique['moyenne']\n",
    "df_statistique.set_index('échantillon',inplace = True)\n",
    "df_statistique\n"
   ]
  }
 ],
 "metadata": {
  "kernelspec": {
   "display_name": "Python 3 (ipykernel)",
   "language": "python",
   "name": "python3"
  },
  "language_info": {
   "codemirror_mode": {
    "name": "ipython",
    "version": 3
   },
   "file_extension": ".py",
   "mimetype": "text/x-python",
   "name": "python",
   "nbconvert_exporter": "python",
   "pygments_lexer": "ipython3",
   "version": "3.9.13"
  }
 },
 "nbformat": 4,
 "nbformat_minor": 5
}
